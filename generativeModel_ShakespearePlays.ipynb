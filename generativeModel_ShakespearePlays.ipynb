{
  "nbformat": 4,
  "nbformat_minor": 0,
  "metadata": {
    "colab": {
      "name": "generativeModel_ShakespearePlays.ipynb",
      "provenance": [],
      "collapsed_sections": [
        "8N1prvhtnM-v",
        "xKh8mypQDkvM",
        "Y1Y0s1BL00T2"
      ]
    },
    "kernelspec": {
      "name": "python3",
      "display_name": "Python 3"
    }
  },
  "cells": [
    {
      "cell_type": "markdown",
      "metadata": {
        "id": "8N1prvhtnM-v",
        "colab_type": "text"
      },
      "source": [
        "# Import some Prerequisite"
      ]
    },
    {
      "cell_type": "code",
      "metadata": {
        "id": "Ci0ONLkOj-30",
        "colab_type": "code",
        "colab": {}
      },
      "source": [
        "from keras.models import Sequential\n",
        "from keras.layers import Dense,LSTM\n",
        "from keras.callbacks import EarlyStopping\n",
        "import numpy as np\n",
        "import random\n",
        "import matplotlib.pyplot as plt"
      ],
      "execution_count": 0,
      "outputs": []
    },
    {
      "cell_type": "markdown",
      "metadata": {
        "id": "xKh8mypQDkvM",
        "colab_type": "text"
      },
      "source": [
        "# Load Dataset and prepare it"
      ]
    },
    {
      "cell_type": "markdown",
      "metadata": {
        "id": "z1GteOO2nVdk",
        "colab_type": "text"
      },
      "source": [
        "Load shekespear dataset"
      ]
    },
    {
      "cell_type": "code",
      "metadata": {
        "id": "KOElH2Kqm1EK",
        "colab_type": "code",
        "colab": {}
      },
      "source": [
        "sh_file = open('shakespear.txt')\n",
        "sh_text = sh_file.read()"
      ],
      "execution_count": 0,
      "outputs": []
    },
    {
      "cell_type": "markdown",
      "metadata": {
        "id": "lXM_QWRJna9C",
        "colab_type": "text"
      },
      "source": [
        "create vocabulary"
      ]
    },
    {
      "cell_type": "code",
      "metadata": {
        "id": "8BMqWtuum82r",
        "colab_type": "code",
        "colab": {}
      },
      "source": [
        "vocabulary = sorted(set(sh_text))\n",
        "\n",
        "char_to_idx = { char : idx for idx, char in enumerate(vocabulary)}\n",
        "idx_to_char = { idx : char for idx, char in enumerate(vocabulary)}"
      ],
      "execution_count": 0,
      "outputs": []
    },
    {
      "cell_type": "markdown",
      "metadata": {
        "id": "frvIUL6SvvNF",
        "colab_type": "text"
      },
      "source": [
        "generate input and target data out of text"
      ]
    },
    {
      "cell_type": "code",
      "metadata": {
        "id": "AwxonwDdvuhg",
        "colab_type": "code",
        "colab": {}
      },
      "source": [
        "maxlen = 40\n",
        "input_data = []\n",
        "target_data = []\n",
        "\n",
        "for i in range(0,len(sh_text)-maxlen):\n",
        "  input_data.append(sh_text[i:i+maxlen])\n",
        "  target_data.append(sh_text[i+maxlen])"
      ],
      "execution_count": 0,
      "outputs": []
    },
    {
      "cell_type": "markdown",
      "metadata": {
        "id": "u1aKphGbxiT2",
        "colab_type": "text"
      },
      "source": [
        "Prepare the Input and target data"
      ]
    },
    {
      "cell_type": "code",
      "metadata": {
        "id": "pZ8qEgHIxhx8",
        "colab_type": "code",
        "colab": {}
      },
      "source": [
        "X = np.zeros((len(target_data),maxlen,len(vocabulary)),dtype ='float64')\n",
        "\n",
        "for s_idx, sentence in enumerate(input_data):\n",
        "  for c_idx, char in enumerate(sentence):\n",
        "    X[s_idx,c_idx,char_to_idx[char]] = 1\n",
        "\n",
        "y = np.zeros((len(target_data),len(vocabulary)),dtype ='float64')\n",
        "for s_idx, sentence in enumerate(target_data):\n",
        "  y[s_idx,char_to_idx[target_data[s_idx]]] = 1\n"
      ],
      "execution_count": 0,
      "outputs": []
    },
    {
      "cell_type": "markdown",
      "metadata": {
        "id": "Y1Y0s1BL00T2",
        "colab_type": "text"
      },
      "source": [
        "# Build a model"
      ]
    },
    {
      "cell_type": "code",
      "metadata": {
        "id": "McCJXVN0wmCF",
        "colab_type": "code",
        "outputId": "65f0c4d8-af1d-456a-acbc-c9cf4af5663b",
        "colab": {
          "base_uri": "https://localhost:8080/",
          "height": 0
        }
      },
      "source": [
        "model = Sequential()\n",
        "model.add(LSTM(128,input_shape=(maxlen,len(vocabulary))))\n",
        "model.add(Dense(len(vocabulary),activation='softmax'))\n",
        "model.compile(optimizer='adam',loss='categorical_crossentropy',metrics = ['acc'])\n",
        "model.summary()"
      ],
      "execution_count": 104,
      "outputs": [
        {
          "output_type": "stream",
          "text": [
            "Model: \"sequential_6\"\n",
            "_________________________________________________________________\n",
            "Layer (type)                 Output Shape              Param #   \n",
            "=================================================================\n",
            "lstm_6 (LSTM)                (None, 128)               97792     \n",
            "_________________________________________________________________\n",
            "dense_6 (Dense)              (None, 62)                7998      \n",
            "=================================================================\n",
            "Total params: 105,790\n",
            "Trainable params: 105,790\n",
            "Non-trainable params: 0\n",
            "_________________________________________________________________\n"
          ],
          "name": "stdout"
        }
      ]
    },
    {
      "cell_type": "markdown",
      "metadata": {
        "id": "P20-JEvxDe7H",
        "colab_type": "text"
      },
      "source": [
        "# Train the model"
      ]
    },
    {
      "cell_type": "code",
      "metadata": {
        "id": "FtEh-76K1Lsq",
        "colab_type": "code",
        "outputId": "ee3e0076-895c-4c4c-80d2-3c6c954634f9",
        "colab": {
          "base_uri": "https://localhost:8080/",
          "height": 734
        }
      },
      "source": [
        "history = model.fit(X,y,epochs = 20 ,batch_size=128,validation_split=0.2,callbacks=[EarlyStopping(patience=2)])\n"
      ],
      "execution_count": 105,
      "outputs": [
        {
          "output_type": "stream",
          "text": [
            "Train on 79962 samples, validate on 19991 samples\n",
            "Epoch 1/20\n",
            "79962/79962 [==============================] - 109s 1ms/step - loss: 2.9076 - acc: 0.2276 - val_loss: 2.5120 - val_acc: 0.3034\n",
            "Epoch 2/20\n",
            "79962/79962 [==============================] - 101s 1ms/step - loss: 2.3850 - acc: 0.3254 - val_loss: 2.3033 - val_acc: 0.3443\n",
            "Epoch 3/20\n",
            "79962/79962 [==============================] - 104s 1ms/step - loss: 2.2471 - acc: 0.3584 - val_loss: 2.2174 - val_acc: 0.3722\n",
            "Epoch 4/20\n",
            "79962/79962 [==============================] - 110s 1ms/step - loss: 2.1696 - acc: 0.3792 - val_loss: 2.1546 - val_acc: 0.3862\n",
            "Epoch 5/20\n",
            "79962/79962 [==============================] - 111s 1ms/step - loss: 2.1007 - acc: 0.3946 - val_loss: 2.0910 - val_acc: 0.4018\n",
            "Epoch 6/20\n",
            "79962/79962 [==============================] - 117s 1ms/step - loss: 2.0379 - acc: 0.4097 - val_loss: 2.0463 - val_acc: 0.4101\n",
            "Epoch 7/20\n",
            "79962/79962 [==============================] - 103s 1ms/step - loss: 1.9969 - acc: 0.4194 - val_loss: 2.0081 - val_acc: 0.4189\n",
            "Epoch 8/20\n",
            "79962/79962 [==============================] - 100s 1ms/step - loss: 1.9542 - acc: 0.4269 - val_loss: 1.9809 - val_acc: 0.4225\n",
            "Epoch 9/20\n",
            "79962/79962 [==============================] - 104s 1ms/step - loss: 1.9212 - acc: 0.4346 - val_loss: 1.9523 - val_acc: 0.4275\n",
            "Epoch 10/20\n",
            "79962/79962 [==============================] - 99s 1ms/step - loss: 1.8916 - acc: 0.4418 - val_loss: 1.9269 - val_acc: 0.4388\n",
            "Epoch 11/20\n",
            "79962/79962 [==============================] - 117s 1ms/step - loss: 1.8620 - acc: 0.4488 - val_loss: 1.9059 - val_acc: 0.4388\n",
            "Epoch 12/20\n",
            "79962/79962 [==============================] - 100s 1ms/step - loss: 1.8361 - acc: 0.4552 - val_loss: 1.8856 - val_acc: 0.4480\n",
            "Epoch 13/20\n",
            "79962/79962 [==============================] - 101s 1ms/step - loss: 1.8091 - acc: 0.4629 - val_loss: 1.8699 - val_acc: 0.4491\n",
            "Epoch 14/20\n",
            "79962/79962 [==============================] - 99s 1ms/step - loss: 1.7855 - acc: 0.4703 - val_loss: 1.8640 - val_acc: 0.4536\n",
            "Epoch 15/20\n",
            "79962/79962 [==============================] - 100s 1ms/step - loss: 1.7641 - acc: 0.4748 - val_loss: 1.8491 - val_acc: 0.4555\n",
            "Epoch 16/20\n",
            "79962/79962 [==============================] - 100s 1ms/step - loss: 1.7443 - acc: 0.4809 - val_loss: 1.8297 - val_acc: 0.4636\n",
            "Epoch 17/20\n",
            "79962/79962 [==============================] - 99s 1ms/step - loss: 1.7220 - acc: 0.4874 - val_loss: 1.8199 - val_acc: 0.4663\n",
            "Epoch 18/20\n",
            "79962/79962 [==============================] - 99s 1ms/step - loss: 1.7042 - acc: 0.4919 - val_loss: 1.8168 - val_acc: 0.4641\n",
            "Epoch 19/20\n",
            "79962/79962 [==============================] - 102s 1ms/step - loss: 1.6850 - acc: 0.4972 - val_loss: 1.8023 - val_acc: 0.4719\n",
            "Epoch 20/20\n",
            "79962/79962 [==============================] - 102s 1ms/step - loss: 1.6683 - acc: 0.5025 - val_loss: 1.7971 - val_acc: 0.4743\n"
          ],
          "name": "stdout"
        }
      ]
    },
    {
      "cell_type": "code",
      "metadata": {
        "id": "ubghQsF16jiF",
        "colab_type": "code",
        "colab": {
          "base_uri": "https://localhost:8080/",
          "height": 265
        },
        "outputId": "ff6c94ed-bd84-4bcb-f834-03e771f21b6c"
      },
      "source": [
        "plt.plot(history.history['loss'])\n",
        "plt.plot(history.history['val_loss'])\n",
        "plt.legend(['loss','val_loss'])\n",
        "plt.show()"
      ],
      "execution_count": 106,
      "outputs": [
        {
          "output_type": "display_data",
          "data": {
            "image/png": "[encoded data removed]",
            "text/plain": [
              "<Figure size 432x288 with 1 Axes>"
            ]
          },
          "metadata": {
            "tags": [],
            "needs_background": "light"
          }
        }
      ]
    },
    {
      "cell_type": "markdown",
      "metadata": {
        "id": "GZoDdYriG96X",
        "colab_type": "text"
      },
      "source": [
        "# generate a shakespeare play"
      ]
    },
    {
      "cell_type": "code",
      "metadata": {
        "id": "09MS5IV2-rFt",
        "colab_type": "code",
        "colab": {}
      },
      "source": [
        "def sampling(preds,temperature):\n",
        "    preds = np.asarray(preds).astype('float64')\n",
        "    preds = np.log(preds) / temperature\n",
        "    exp_preds = np.exp(preds)\n",
        "    preds = exp_preds / np.sum(exp_preds)\n",
        "    probas = np.random.multinomial(1, preds, 1)\n",
        "    return np.argmax(probas)"
      ],
      "execution_count": 0,
      "outputs": []
    },
    {
      "cell_type": "code",
      "metadata": {
        "id": "wjRy8zSw74gX",
        "colab_type": "code",
        "outputId": "135116f0-16e1-44bb-eb4a-9d6ba4d6f5a3",
        "colab": {
          "base_uri": "https://localhost:8080/",
          "height": 221
        }
      },
      "source": [
        "generated_text =''\n",
        "text_len =400\n",
        "start_idx = random.randint(0, len(sh_text) - maxlen - 1)\n",
        "generated_text = sh_text[start_idx:start_idx+maxlen]\n",
        "print('text seed:\\n '+ generated_text+'\\n')\n",
        "\n",
        "sample =  np.zeros((1,maxlen,len(vocabulary)),dtype ='float64')\n",
        "for c_idx,char in enumerate(generated_text):\n",
        "  sample[0,c_idx,char_to_idx[char]] = 1\n",
        "\n",
        "for i in range(text_len):\n",
        "  sample =  np.zeros((1,maxlen,len(vocabulary)),dtype ='float64')\n",
        "  for c_idx,char in enumerate(generated_text[i:]):\n",
        "    sample[0,c_idx,char_to_idx[char]] = 1\n",
        "  preds = model.predict(sample)[0]\n",
        "  next_char_idx = sampling(preds,0.5)\n",
        "  next_char = idx_to_char[next_char_idx]\n",
        "  generated_text+=next_char\n",
        "  \n",
        "print('genrated text:\\n'+generated_text)"
      ],
      "execution_count": 108,
      "outputs": [
        {
          "output_type": "stream",
          "text": [
            "text seed:\n",
            " rue, sirrah; let us blame it too: I can \n",
            "\n",
            "genrated text:\n",
            "rue, sirrah; let us blame it too: I can my partured with the all with the words,\n",
            "And the forle there of the his are of that it thou that one sofe his ade\n",
            "And the reast the greath of your friends,\n",
            "And the share in the himss of the stayed\n",
            "If he doth to the frember my both that and and simpite, therefore,\n",
            "That and the with to do the confeld, and hese to her comes,\n",
            "We how the wist by the larth and his from the love him for her and\n",
            "To still \n"
          ],
          "name": "stdout"
        }
      ]
    }
  ]
}